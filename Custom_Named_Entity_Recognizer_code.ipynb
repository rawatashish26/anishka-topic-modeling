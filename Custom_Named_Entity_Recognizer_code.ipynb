{
 "cells": [
  {
   "cell_type": "markdown",
   "metadata": {
    "colab_type": "text",
    "id": "view-in-github"
   },
   "source": [
    "<a href=\"https://colab.research.google.com/github/srivatsan88/Natural-Language-Processing/blob/master/Topic_Modeling_using_LDA_scikit_learn.ipynb\" target=\"_parent\"><img src=\"https://colab.research.google.com/assets/colab-badge.svg\" alt=\"Open In Colab\"/></a>"
   ]
  },
  {
   "cell_type": "markdown",
   "metadata": {
    "colab_type": "text",
    "id": "ITnIil_rP8FE"
   },
   "source": [
    "Link to video that walks thorugh the code - https://youtu.be/25JOEnrz40c"
   ]
  },
  {
   "cell_type": "code",
   "execution_count": 14,
   "metadata": {
    "colab": {},
    "colab_type": "code",
    "id": "3Tib-VoNf3SU"
   },
   "outputs": [],
   "source": [
    "import pandas as pd\n",
    "from sklearn.feature_extraction.text import TfidfVectorizer, CountVectorizer\n",
    "from sklearn import decomposition\n",
    "import matplotlib.pyplot as plt\n",
    "import numpy as np\n",
    "import re\n",
    "import nltk\n",
    "from nltk.stem.porter import PorterStemmer\n",
    "from sklearn.model_selection import train_test_split"
   ]
  },
  {
   "cell_type": "code",
   "execution_count": 19,
   "metadata": {
    "colab": {
     "base_uri": "https://localhost:8080/",
     "height": 72
    },
    "colab_type": "code",
    "id": "WShP9UhDdqqz",
    "outputId": "f2d1f6b9-2d2a-4d7d-c10e-36501fe97168"
   },
   "outputs": [
    {
     "name": "stderr",
     "output_type": "stream",
     "text": [
      "[nltk_data] Downloading package punkt to\n",
      "[nltk_data]     C:\\Users\\Dell\\AppData\\Roaming\\nltk_data...\n",
      "[nltk_data]   Package punkt is already up-to-date!\n"
     ]
    },
    {
     "data": {
      "text/plain": [
       "True"
      ]
     },
     "execution_count": 19,
     "metadata": {},
     "output_type": "execute_result"
    }
   ],
   "source": [
    "nltk.download('punkt')"
   ]
  },
  {
   "cell_type": "code",
   "execution_count": 20,
   "metadata": {
    "colab": {},
    "colab_type": "code",
    "id": "tJLUmACgf8oQ"
   },
   "outputs": [],
   "source": [
    "df=pd.read_csv('https://github.com/rawatashish26/anishka-topic-modeling/blob/main/consumer_compliants.zip?raw=true', compression='zip', sep=',', quotechar='\"')"
   ]
  },
  {
   "cell_type": "code",
   "execution_count": 21,
   "metadata": {
    "colab": {
     "base_uri": "https://localhost:8080/",
     "height": 1000
    },
    "colab_type": "code",
    "id": "2YZbkRxzg6KI",
    "outputId": "6ba9bb6a-ba8b-40ef-b865-38f84be27af1"
   },
   "outputs": [
    {
     "data": {
      "text/html": [
       "<div>\n",
       "<style scoped>\n",
       "    .dataframe tbody tr th:only-of-type {\n",
       "        vertical-align: middle;\n",
       "    }\n",
       "\n",
       "    .dataframe tbody tr th {\n",
       "        vertical-align: top;\n",
       "    }\n",
       "\n",
       "    .dataframe thead th {\n",
       "        text-align: right;\n",
       "    }\n",
       "</style>\n",
       "<table border=\"1\" class=\"dataframe\">\n",
       "  <thead>\n",
       "    <tr style=\"text-align: right;\">\n",
       "      <th></th>\n",
       "      <th>Date received</th>\n",
       "      <th>Product</th>\n",
       "      <th>Sub-product</th>\n",
       "      <th>Issue</th>\n",
       "      <th>Sub-issue</th>\n",
       "      <th>Consumer complaint narrative</th>\n",
       "      <th>Company public response</th>\n",
       "      <th>Company</th>\n",
       "      <th>State</th>\n",
       "      <th>ZIP code</th>\n",
       "      <th>Tags</th>\n",
       "      <th>Consumer consent provided?</th>\n",
       "      <th>Submitted via</th>\n",
       "      <th>Date sent to company</th>\n",
       "      <th>Company response to consumer</th>\n",
       "      <th>Timely response?</th>\n",
       "      <th>Consumer disputed?</th>\n",
       "      <th>Complaint ID</th>\n",
       "    </tr>\n",
       "  </thead>\n",
       "  <tbody>\n",
       "    <tr>\n",
       "      <th>0</th>\n",
       "      <td>4/3/2020</td>\n",
       "      <td>Vehicle loan or lease</td>\n",
       "      <td>Loan</td>\n",
       "      <td>Getting a loan or lease</td>\n",
       "      <td>Fraudulent loan</td>\n",
       "      <td>This auto loan was opened on XX/XX/2020 in XXX...</td>\n",
       "      <td>Company has responded to the consumer and the ...</td>\n",
       "      <td>TRUIST FINANCIAL CORPORATION</td>\n",
       "      <td>PA</td>\n",
       "      <td>None</td>\n",
       "      <td>None</td>\n",
       "      <td>Consent provided</td>\n",
       "      <td>Web</td>\n",
       "      <td>4/3/2020</td>\n",
       "      <td>Closed with explanation</td>\n",
       "      <td>Yes</td>\n",
       "      <td>NaN</td>\n",
       "      <td>3591341</td>\n",
       "    </tr>\n",
       "    <tr>\n",
       "      <th>1</th>\n",
       "      <td>3/12/2020</td>\n",
       "      <td>Debt collection</td>\n",
       "      <td>Payday loan debt</td>\n",
       "      <td>Attempts to collect debt not owed</td>\n",
       "      <td>Debt is not yours</td>\n",
       "      <td>In XXXX of 2019 I noticed a debt for {$620.00}...</td>\n",
       "      <td>None</td>\n",
       "      <td>CURO Intermediate Holdings</td>\n",
       "      <td>CO</td>\n",
       "      <td>806XX</td>\n",
       "      <td>None</td>\n",
       "      <td>Consent provided</td>\n",
       "      <td>Web</td>\n",
       "      <td>3/12/2020</td>\n",
       "      <td>Closed with explanation</td>\n",
       "      <td>Yes</td>\n",
       "      <td>NaN</td>\n",
       "      <td>3564184</td>\n",
       "    </tr>\n",
       "    <tr>\n",
       "      <th>2</th>\n",
       "      <td>2/6/2020</td>\n",
       "      <td>Vehicle loan or lease</td>\n",
       "      <td>Loan</td>\n",
       "      <td>Getting a loan or lease</td>\n",
       "      <td>Credit denial</td>\n",
       "      <td>As stated from Capital One, XXXX XX/XX/XXXX an...</td>\n",
       "      <td>None</td>\n",
       "      <td>CAPITAL ONE FINANCIAL CORPORATION</td>\n",
       "      <td>OH</td>\n",
       "      <td>430XX</td>\n",
       "      <td>None</td>\n",
       "      <td>Consent provided</td>\n",
       "      <td>Web</td>\n",
       "      <td>2/6/2020</td>\n",
       "      <td>Closed with explanation</td>\n",
       "      <td>Yes</td>\n",
       "      <td>NaN</td>\n",
       "      <td>3521949</td>\n",
       "    </tr>\n",
       "    <tr>\n",
       "      <th>3</th>\n",
       "      <td>3/6/2020</td>\n",
       "      <td>Checking or savings account</td>\n",
       "      <td>Savings account</td>\n",
       "      <td>Managing an account</td>\n",
       "      <td>Banking errors</td>\n",
       "      <td>Please see CFPB case XXXX. \\n\\nCapital One, in...</td>\n",
       "      <td>None</td>\n",
       "      <td>CAPITAL ONE FINANCIAL CORPORATION</td>\n",
       "      <td>CA</td>\n",
       "      <td>None</td>\n",
       "      <td>None</td>\n",
       "      <td>Consent provided</td>\n",
       "      <td>Web</td>\n",
       "      <td>3/6/2020</td>\n",
       "      <td>Closed with explanation</td>\n",
       "      <td>Yes</td>\n",
       "      <td>NaN</td>\n",
       "      <td>3556237</td>\n",
       "    </tr>\n",
       "    <tr>\n",
       "      <th>4</th>\n",
       "      <td>2/14/2020</td>\n",
       "      <td>Debt collection</td>\n",
       "      <td>Medical debt</td>\n",
       "      <td>Attempts to collect debt not owed</td>\n",
       "      <td>Debt is not yours</td>\n",
       "      <td>This debt was incurred due to medical malpract...</td>\n",
       "      <td>Company believes it acted appropriately as aut...</td>\n",
       "      <td>Merchants and Professional Bureau, Inc.</td>\n",
       "      <td>OH</td>\n",
       "      <td>432XX</td>\n",
       "      <td>None</td>\n",
       "      <td>Consent provided</td>\n",
       "      <td>Web</td>\n",
       "      <td>2/14/2020</td>\n",
       "      <td>Closed with explanation</td>\n",
       "      <td>Yes</td>\n",
       "      <td>NaN</td>\n",
       "      <td>3531704</td>\n",
       "    </tr>\n",
       "    <tr>\n",
       "      <th>...</th>\n",
       "      <td>...</td>\n",
       "      <td>...</td>\n",
       "      <td>...</td>\n",
       "      <td>...</td>\n",
       "      <td>...</td>\n",
       "      <td>...</td>\n",
       "      <td>...</td>\n",
       "      <td>...</td>\n",
       "      <td>...</td>\n",
       "      <td>...</td>\n",
       "      <td>...</td>\n",
       "      <td>...</td>\n",
       "      <td>...</td>\n",
       "      <td>...</td>\n",
       "      <td>...</td>\n",
       "      <td>...</td>\n",
       "      <td>...</td>\n",
       "      <td>...</td>\n",
       "    </tr>\n",
       "    <tr>\n",
       "      <th>57448</th>\n",
       "      <td>2/29/2020</td>\n",
       "      <td>Student loan</td>\n",
       "      <td>Federal student loan servicing</td>\n",
       "      <td>Dealing with your lender or servicer</td>\n",
       "      <td>Trouble with how payments are being handled</td>\n",
       "      <td>I am attempting to make a payment toward my st...</td>\n",
       "      <td>None</td>\n",
       "      <td>Nelnet, Inc.</td>\n",
       "      <td>KS</td>\n",
       "      <td>None</td>\n",
       "      <td>None</td>\n",
       "      <td>Consent provided</td>\n",
       "      <td>Web</td>\n",
       "      <td>2/29/2020</td>\n",
       "      <td>Closed with explanation</td>\n",
       "      <td>Yes</td>\n",
       "      <td>NaN</td>\n",
       "      <td>3549178</td>\n",
       "    </tr>\n",
       "    <tr>\n",
       "      <th>57449</th>\n",
       "      <td>2/11/2020</td>\n",
       "      <td>Debt collection</td>\n",
       "      <td>Other debt</td>\n",
       "      <td>Attempts to collect debt not owed</td>\n",
       "      <td>Debt was paid</td>\n",
       "      <td>Received letter for {$480.00}. Original credit...</td>\n",
       "      <td>Company has responded to the consumer and the ...</td>\n",
       "      <td>The Receivable Management Services LLC, New Yo...</td>\n",
       "      <td>AZ</td>\n",
       "      <td>853XX</td>\n",
       "      <td>None</td>\n",
       "      <td>Consent provided</td>\n",
       "      <td>Web</td>\n",
       "      <td>2/18/2020</td>\n",
       "      <td>Closed with explanation</td>\n",
       "      <td>Yes</td>\n",
       "      <td>NaN</td>\n",
       "      <td>3527928</td>\n",
       "    </tr>\n",
       "    <tr>\n",
       "      <th>57450</th>\n",
       "      <td>2/29/2020</td>\n",
       "      <td>Debt collection</td>\n",
       "      <td>Other debt</td>\n",
       "      <td>Communication tactics</td>\n",
       "      <td>Used obscene, profane, or other abusive language</td>\n",
       "      <td>entire time 10 years until XX/XX/2020. XXXX ma...</td>\n",
       "      <td>Company has responded to the consumer and the ...</td>\n",
       "      <td>Convergent Resources, Inc.</td>\n",
       "      <td>NJ</td>\n",
       "      <td>8101</td>\n",
       "      <td>None</td>\n",
       "      <td>Consent provided</td>\n",
       "      <td>Web</td>\n",
       "      <td>2/29/2020</td>\n",
       "      <td>Closed with explanation</td>\n",
       "      <td>Yes</td>\n",
       "      <td>NaN</td>\n",
       "      <td>3549238</td>\n",
       "    </tr>\n",
       "    <tr>\n",
       "      <th>57451</th>\n",
       "      <td>1/16/2020</td>\n",
       "      <td>Checking or savings account</td>\n",
       "      <td>Checking account</td>\n",
       "      <td>Problem with a lender or other company chargin...</td>\n",
       "      <td>Transaction was not authorized</td>\n",
       "      <td>I am a customer with Wells Fargo Bank. Recentl...</td>\n",
       "      <td>Company has responded to the consumer and the ...</td>\n",
       "      <td>WELLS FARGO &amp; COMPANY</td>\n",
       "      <td>AZ</td>\n",
       "      <td>852XX</td>\n",
       "      <td>None</td>\n",
       "      <td>Consent provided</td>\n",
       "      <td>Web</td>\n",
       "      <td>1/22/2020</td>\n",
       "      <td>Closed with explanation</td>\n",
       "      <td>Yes</td>\n",
       "      <td>NaN</td>\n",
       "      <td>3498566</td>\n",
       "    </tr>\n",
       "    <tr>\n",
       "      <th>57452</th>\n",
       "      <td>1/16/2020</td>\n",
       "      <td>Debt collection</td>\n",
       "      <td>Auto debt</td>\n",
       "      <td>Took or threatened to take negative or legal a...</td>\n",
       "      <td>Threatened or suggested your credit would be d...</td>\n",
       "      <td>I spoken with them several times in a year. An...</td>\n",
       "      <td>None</td>\n",
       "      <td>Exeter Finance Corp.</td>\n",
       "      <td>SC</td>\n",
       "      <td>None</td>\n",
       "      <td>None</td>\n",
       "      <td>Consent provided</td>\n",
       "      <td>Web</td>\n",
       "      <td>1/16/2020</td>\n",
       "      <td>Closed with explanation</td>\n",
       "      <td>Yes</td>\n",
       "      <td>NaN</td>\n",
       "      <td>3498524</td>\n",
       "    </tr>\n",
       "  </tbody>\n",
       "</table>\n",
       "<p>57453 rows × 18 columns</p>\n",
       "</div>"
      ],
      "text/plain": [
       "      Date received                      Product  \\\n",
       "0          4/3/2020        Vehicle loan or lease   \n",
       "1         3/12/2020              Debt collection   \n",
       "2          2/6/2020        Vehicle loan or lease   \n",
       "3          3/6/2020  Checking or savings account   \n",
       "4         2/14/2020              Debt collection   \n",
       "...             ...                          ...   \n",
       "57448     2/29/2020                 Student loan   \n",
       "57449     2/11/2020              Debt collection   \n",
       "57450     2/29/2020              Debt collection   \n",
       "57451     1/16/2020  Checking or savings account   \n",
       "57452     1/16/2020              Debt collection   \n",
       "\n",
       "                          Sub-product  \\\n",
       "0                                Loan   \n",
       "1                    Payday loan debt   \n",
       "2                                Loan   \n",
       "3                     Savings account   \n",
       "4                        Medical debt   \n",
       "...                               ...   \n",
       "57448  Federal student loan servicing   \n",
       "57449                      Other debt   \n",
       "57450                      Other debt   \n",
       "57451                Checking account   \n",
       "57452                       Auto debt   \n",
       "\n",
       "                                                   Issue  \\\n",
       "0                                Getting a loan or lease   \n",
       "1                      Attempts to collect debt not owed   \n",
       "2                                Getting a loan or lease   \n",
       "3                                    Managing an account   \n",
       "4                      Attempts to collect debt not owed   \n",
       "...                                                  ...   \n",
       "57448               Dealing with your lender or servicer   \n",
       "57449                  Attempts to collect debt not owed   \n",
       "57450                              Communication tactics   \n",
       "57451  Problem with a lender or other company chargin...   \n",
       "57452  Took or threatened to take negative or legal a...   \n",
       "\n",
       "                                               Sub-issue  \\\n",
       "0                                        Fraudulent loan   \n",
       "1                                      Debt is not yours   \n",
       "2                                          Credit denial   \n",
       "3                                         Banking errors   \n",
       "4                                      Debt is not yours   \n",
       "...                                                  ...   \n",
       "57448        Trouble with how payments are being handled   \n",
       "57449                                      Debt was paid   \n",
       "57450   Used obscene, profane, or other abusive language   \n",
       "57451                     Transaction was not authorized   \n",
       "57452  Threatened or suggested your credit would be d...   \n",
       "\n",
       "                            Consumer complaint narrative  \\\n",
       "0      This auto loan was opened on XX/XX/2020 in XXX...   \n",
       "1      In XXXX of 2019 I noticed a debt for {$620.00}...   \n",
       "2      As stated from Capital One, XXXX XX/XX/XXXX an...   \n",
       "3      Please see CFPB case XXXX. \\n\\nCapital One, in...   \n",
       "4      This debt was incurred due to medical malpract...   \n",
       "...                                                  ...   \n",
       "57448  I am attempting to make a payment toward my st...   \n",
       "57449  Received letter for {$480.00}. Original credit...   \n",
       "57450  entire time 10 years until XX/XX/2020. XXXX ma...   \n",
       "57451  I am a customer with Wells Fargo Bank. Recentl...   \n",
       "57452  I spoken with them several times in a year. An...   \n",
       "\n",
       "                                 Company public response  \\\n",
       "0      Company has responded to the consumer and the ...   \n",
       "1                                                   None   \n",
       "2                                                   None   \n",
       "3                                                   None   \n",
       "4      Company believes it acted appropriately as aut...   \n",
       "...                                                  ...   \n",
       "57448                                               None   \n",
       "57449  Company has responded to the consumer and the ...   \n",
       "57450  Company has responded to the consumer and the ...   \n",
       "57451  Company has responded to the consumer and the ...   \n",
       "57452                                               None   \n",
       "\n",
       "                                                 Company State ZIP code  Tags  \\\n",
       "0                           TRUIST FINANCIAL CORPORATION    PA     None  None   \n",
       "1                             CURO Intermediate Holdings    CO    806XX  None   \n",
       "2                      CAPITAL ONE FINANCIAL CORPORATION    OH    430XX  None   \n",
       "3                      CAPITAL ONE FINANCIAL CORPORATION    CA     None  None   \n",
       "4                Merchants and Professional Bureau, Inc.    OH    432XX  None   \n",
       "...                                                  ...   ...      ...   ...   \n",
       "57448                                       Nelnet, Inc.    KS     None  None   \n",
       "57449  The Receivable Management Services LLC, New Yo...    AZ    853XX  None   \n",
       "57450                         Convergent Resources, Inc.    NJ     8101  None   \n",
       "57451                              WELLS FARGO & COMPANY    AZ    852XX  None   \n",
       "57452                               Exeter Finance Corp.    SC     None  None   \n",
       "\n",
       "      Consumer consent provided? Submitted via Date sent to company  \\\n",
       "0               Consent provided           Web             4/3/2020   \n",
       "1               Consent provided           Web            3/12/2020   \n",
       "2               Consent provided           Web             2/6/2020   \n",
       "3               Consent provided           Web             3/6/2020   \n",
       "4               Consent provided           Web            2/14/2020   \n",
       "...                          ...           ...                  ...   \n",
       "57448           Consent provided           Web            2/29/2020   \n",
       "57449           Consent provided           Web            2/18/2020   \n",
       "57450           Consent provided           Web            2/29/2020   \n",
       "57451           Consent provided           Web            1/22/2020   \n",
       "57452           Consent provided           Web            1/16/2020   \n",
       "\n",
       "      Company response to consumer Timely response?  Consumer disputed?  \\\n",
       "0          Closed with explanation              Yes                 NaN   \n",
       "1          Closed with explanation              Yes                 NaN   \n",
       "2          Closed with explanation              Yes                 NaN   \n",
       "3          Closed with explanation              Yes                 NaN   \n",
       "4          Closed with explanation              Yes                 NaN   \n",
       "...                            ...              ...                 ...   \n",
       "57448      Closed with explanation              Yes                 NaN   \n",
       "57449      Closed with explanation              Yes                 NaN   \n",
       "57450      Closed with explanation              Yes                 NaN   \n",
       "57451      Closed with explanation              Yes                 NaN   \n",
       "57452      Closed with explanation              Yes                 NaN   \n",
       "\n",
       "       Complaint ID  \n",
       "0           3591341  \n",
       "1           3564184  \n",
       "2           3521949  \n",
       "3           3556237  \n",
       "4           3531704  \n",
       "...             ...  \n",
       "57448       3549178  \n",
       "57449       3527928  \n",
       "57450       3549238  \n",
       "57451       3498566  \n",
       "57452       3498524  \n",
       "\n",
       "[57453 rows x 18 columns]"
      ]
     },
     "execution_count": 21,
     "metadata": {},
     "output_type": "execute_result"
    }
   ],
   "source": [
    "df"
   ]
  },
  {
   "cell_type": "code",
   "execution_count": 22,
   "metadata": {
    "colab": {
     "base_uri": "https://localhost:8080/",
     "height": 145
    },
    "colab_type": "code",
    "id": "Iu0aXVAqg73M",
    "outputId": "6746ae8f-9100-48f1-c6ec-c6c8fb48af60"
   },
   "outputs": [
    {
     "data": {
      "text/plain": [
       "Debt collection                21772\n",
       "Credit card or prepaid card    13193\n",
       "Mortgage                        9799\n",
       "Checking or savings account     7003\n",
       "Student loan                    2950\n",
       "Vehicle loan or lease           2736\n",
       "Name: Product, dtype: int64"
      ]
     },
     "execution_count": 22,
     "metadata": {},
     "output_type": "execute_result"
    }
   ],
   "source": [
    "df['Product'].value_counts()"
   ]
  },
  {
   "cell_type": "code",
   "execution_count": 23,
   "metadata": {
    "colab": {
     "base_uri": "https://localhost:8080/",
     "height": 235
    },
    "colab_type": "code",
    "id": "ZIOA2D7qhPIM",
    "outputId": "9adbc740-bee3-48d0-b1c8-7f3b002e8574"
   },
   "outputs": [
    {
     "data": {
      "text/plain": [
       "CITIBANK, N.A.                              3226\n",
       "CAPITAL ONE FINANCIAL CORPORATION           2711\n",
       "BANK OF AMERICA, NATIONAL ASSOCIATION       2580\n",
       "JPMORGAN CHASE & CO.                        2409\n",
       "WELLS FARGO & COMPANY                       2001\n",
       "                                            ... \n",
       "The DeGrasse Law Firm, P.C.                    1\n",
       "Law Offices of Les Zieve                       1\n",
       "Celentano, Stadtmauer & Walentowicz, LLP       1\n",
       "Bayside Capital Services, LLC                  1\n",
       "The Claims Center LLC                          1\n",
       "Name: Company, Length: 2197, dtype: int64"
      ]
     },
     "execution_count": 23,
     "metadata": {},
     "output_type": "execute_result"
    }
   ],
   "source": [
    "df['Company'].value_counts()"
   ]
  },
  {
   "cell_type": "code",
   "execution_count": 24,
   "metadata": {
    "colab": {},
    "colab_type": "code",
    "id": "RyAy7ALMkDK-"
   },
   "outputs": [],
   "source": [
    "complaints_df=df[['Consumer complaint narrative','Product','Company']].rename(columns={'Consumer complaint narrative':'complaints'})"
   ]
  },
  {
   "cell_type": "code",
   "execution_count": 25,
   "metadata": {
    "colab": {
     "base_uri": "https://localhost:8080/",
     "height": 1000
    },
    "colab_type": "code",
    "id": "j2e_-PbHkgcC",
    "outputId": "4644f6a2-f8ef-4324-c298-a96101f7c6fe"
   },
   "outputs": [
    {
     "data": {
      "text/html": [
       "<div>\n",
       "<style scoped>\n",
       "    .dataframe tbody tr th:only-of-type {\n",
       "        vertical-align: middle;\n",
       "    }\n",
       "\n",
       "    .dataframe tbody tr th {\n",
       "        vertical-align: top;\n",
       "    }\n",
       "\n",
       "    .dataframe thead th {\n",
       "        text-align: right;\n",
       "    }\n",
       "</style>\n",
       "<table border=\"1\" class=\"dataframe\">\n",
       "  <thead>\n",
       "    <tr style=\"text-align: right;\">\n",
       "      <th></th>\n",
       "      <th>complaints</th>\n",
       "      <th>Product</th>\n",
       "      <th>Company</th>\n",
       "    </tr>\n",
       "  </thead>\n",
       "  <tbody>\n",
       "    <tr>\n",
       "      <th>0</th>\n",
       "      <td>This auto loan was opened on XX/XX/2020 in XXXX, NC with BB &amp; T in my name. I have NEVER been to...</td>\n",
       "      <td>Vehicle loan or lease</td>\n",
       "      <td>TRUIST FINANCIAL CORPORATION</td>\n",
       "    </tr>\n",
       "    <tr>\n",
       "      <th>1</th>\n",
       "      <td>In XXXX of 2019 I noticed a debt for {$620.00} on my credit which i believed was mine I thought ...</td>\n",
       "      <td>Debt collection</td>\n",
       "      <td>CURO Intermediate Holdings</td>\n",
       "    </tr>\n",
       "    <tr>\n",
       "      <th>2</th>\n",
       "      <td>As stated from Capital One, XXXX XX/XX/XXXX and XXXX 2018, My wife and I went to several car dea...</td>\n",
       "      <td>Vehicle loan or lease</td>\n",
       "      <td>CAPITAL ONE FINANCIAL CORPORATION</td>\n",
       "    </tr>\n",
       "    <tr>\n",
       "      <th>3</th>\n",
       "      <td>Please see CFPB case XXXX. \\n\\nCapital One, in the letter they provided ( and attached to that c...</td>\n",
       "      <td>Checking or savings account</td>\n",
       "      <td>CAPITAL ONE FINANCIAL CORPORATION</td>\n",
       "    </tr>\n",
       "    <tr>\n",
       "      <th>4</th>\n",
       "      <td>This debt was incurred due to medical malpractice ( XXXX XXXX XXXX, XXXX, TX ). I asked the doct...</td>\n",
       "      <td>Debt collection</td>\n",
       "      <td>Merchants and Professional Bureau, Inc.</td>\n",
       "    </tr>\n",
       "    <tr>\n",
       "      <th>...</th>\n",
       "      <td>...</td>\n",
       "      <td>...</td>\n",
       "      <td>...</td>\n",
       "    </tr>\n",
       "    <tr>\n",
       "      <th>57448</th>\n",
       "      <td>I am attempting to make a payment toward my student loans on the Nelnet website today, XX/XX/20,...</td>\n",
       "      <td>Student loan</td>\n",
       "      <td>Nelnet, Inc.</td>\n",
       "    </tr>\n",
       "    <tr>\n",
       "      <th>57449</th>\n",
       "      <td>Received letter for {$480.00}. Original creditor didnt contact me until past statute of limitati...</td>\n",
       "      <td>Debt collection</td>\n",
       "      <td>The Receivable Management Services LLC, New York, NY Branch</td>\n",
       "    </tr>\n",
       "    <tr>\n",
       "      <th>57450</th>\n",
       "      <td>entire time 10 years until XX/XX/2020. XXXX makes my blood boil. I have called and was lied to t...</td>\n",
       "      <td>Debt collection</td>\n",
       "      <td>Convergent Resources, Inc.</td>\n",
       "    </tr>\n",
       "    <tr>\n",
       "      <th>57451</th>\n",
       "      <td>I am a customer with Wells Fargo Bank. Recently money was withdrawn on a couple of occasions wit...</td>\n",
       "      <td>Checking or savings account</td>\n",
       "      <td>WELLS FARGO &amp; COMPANY</td>\n",
       "    </tr>\n",
       "    <tr>\n",
       "      <th>57452</th>\n",
       "      <td>I spoken with them several times in a year. An in XXXX they informed me yes they sold my informa...</td>\n",
       "      <td>Debt collection</td>\n",
       "      <td>Exeter Finance Corp.</td>\n",
       "    </tr>\n",
       "  </tbody>\n",
       "</table>\n",
       "<p>57453 rows × 3 columns</p>\n",
       "</div>"
      ],
      "text/plain": [
       "                                                                                                complaints  \\\n",
       "0      This auto loan was opened on XX/XX/2020 in XXXX, NC with BB & T in my name. I have NEVER been to...   \n",
       "1      In XXXX of 2019 I noticed a debt for {$620.00} on my credit which i believed was mine I thought ...   \n",
       "2      As stated from Capital One, XXXX XX/XX/XXXX and XXXX 2018, My wife and I went to several car dea...   \n",
       "3      Please see CFPB case XXXX. \\n\\nCapital One, in the letter they provided ( and attached to that c...   \n",
       "4      This debt was incurred due to medical malpractice ( XXXX XXXX XXXX, XXXX, TX ). I asked the doct...   \n",
       "...                                                                                                    ...   \n",
       "57448  I am attempting to make a payment toward my student loans on the Nelnet website today, XX/XX/20,...   \n",
       "57449  Received letter for {$480.00}. Original creditor didnt contact me until past statute of limitati...   \n",
       "57450  entire time 10 years until XX/XX/2020. XXXX makes my blood boil. I have called and was lied to t...   \n",
       "57451  I am a customer with Wells Fargo Bank. Recently money was withdrawn on a couple of occasions wit...   \n",
       "57452  I spoken with them several times in a year. An in XXXX they informed me yes they sold my informa...   \n",
       "\n",
       "                           Product  \\\n",
       "0            Vehicle loan or lease   \n",
       "1                  Debt collection   \n",
       "2            Vehicle loan or lease   \n",
       "3      Checking or savings account   \n",
       "4                  Debt collection   \n",
       "...                            ...   \n",
       "57448                 Student loan   \n",
       "57449              Debt collection   \n",
       "57450              Debt collection   \n",
       "57451  Checking or savings account   \n",
       "57452              Debt collection   \n",
       "\n",
       "                                                           Company  \n",
       "0                                     TRUIST FINANCIAL CORPORATION  \n",
       "1                                       CURO Intermediate Holdings  \n",
       "2                                CAPITAL ONE FINANCIAL CORPORATION  \n",
       "3                                CAPITAL ONE FINANCIAL CORPORATION  \n",
       "4                          Merchants and Professional Bureau, Inc.  \n",
       "...                                                            ...  \n",
       "57448                                                 Nelnet, Inc.  \n",
       "57449  The Receivable Management Services LLC, New York, NY Branch  \n",
       "57450                                   Convergent Resources, Inc.  \n",
       "57451                                        WELLS FARGO & COMPANY  \n",
       "57452                                         Exeter Finance Corp.  \n",
       "\n",
       "[57453 rows x 3 columns]"
      ]
     },
     "execution_count": 25,
     "metadata": {},
     "output_type": "execute_result"
    }
   ],
   "source": [
    "pd.set_option('display.max_colwidth', 100)\n",
    "complaints_df"
   ]
  },
  {
   "cell_type": "code",
   "execution_count": 26,
   "metadata": {
    "colab": {},
    "colab_type": "code",
    "id": "SC6IhFa35ea5"
   },
   "outputs": [],
   "source": [
    "X_train, X_hold = train_test_split(complaints_df, test_size=0.6, random_state=111)"
   ]
  },
  {
   "cell_type": "code",
   "execution_count": 27,
   "metadata": {
    "colab": {
     "base_uri": "https://localhost:8080/",
     "height": 145
    },
    "colab_type": "code",
    "id": "b4IuhHvB8CKf",
    "outputId": "b223a7e7-6d58-4942-ca0e-ffe5a1997cd6"
   },
   "outputs": [
    {
     "data": {
      "text/plain": [
       "Debt collection                8720\n",
       "Credit card or prepaid card    5297\n",
       "Mortgage                       3809\n",
       "Checking or savings account    2822\n",
       "Student loan                   1236\n",
       "Vehicle loan or lease          1097\n",
       "Name: Product, dtype: int64"
      ]
     },
     "execution_count": 27,
     "metadata": {},
     "output_type": "execute_result"
    }
   ],
   "source": [
    "X_train['Product'].value_counts()"
   ]
  },
  {
   "cell_type": "code",
   "execution_count": 28,
   "metadata": {
    "colab": {},
    "colab_type": "code",
    "id": "yOJI-TWxkXmH"
   },
   "outputs": [],
   "source": [
    "stemmer = PorterStemmer()"
   ]
  },
  {
   "cell_type": "code",
   "execution_count": 29,
   "metadata": {
    "colab": {},
    "colab_type": "code",
    "id": "c33HdaMZkPlJ"
   },
   "outputs": [],
   "source": [
    "def tokenize(text):\n",
    "   tokens = [word for word in nltk.word_tokenize(text) if (len(word) > 3 and len(word.strip('Xx/')) > 2) ] \n",
    "   #stems = [stemmer.stem(item) for item in tokens]\n",
    "   return tokens"
   ]
  },
  {
   "cell_type": "code",
   "execution_count": 30,
   "metadata": {
    "colab": {},
    "colab_type": "code",
    "id": "HgZ6lFDEBz8k"
   },
   "outputs": [],
   "source": [
    "vectorizer_tf = TfidfVectorizer(tokenizer=tokenize, stop_words='english', max_df=0.75, min_df=50, max_features=10000, use_idf=False, norm=None)\n",
    "tf_vectors = vectorizer_tf.fit_transform(X_train.complaints) "
   ]
  },
  {
   "cell_type": "code",
   "execution_count": 33,
   "metadata": {
    "colab": {
     "base_uri": "https://localhost:8080/",
     "height": 145
    },
    "colab_type": "code",
    "id": "NwxB1PqJPEJV",
    "outputId": "d461c473-4525-4f3e-87e8-a9a5bc494efb"
   },
   "outputs": [
    {
     "data": {
      "text/plain": [
       "array([[0., 0., 0., ..., 0., 0., 0.],\n",
       "       [0., 0., 0., ..., 0., 0., 1.],\n",
       "       [0., 0., 0., ..., 0., 0., 0.],\n",
       "       ...,\n",
       "       [0., 0., 0., ..., 0., 0., 0.],\n",
       "       [0., 0., 0., ..., 0., 0., 0.],\n",
       "       [0., 0., 0., ..., 0., 0., 0.]])"
      ]
     },
     "execution_count": 33,
     "metadata": {},
     "output_type": "execute_result"
    }
   ],
   "source": [
    "tf_vectors.A"
   ]
  },
  {
   "cell_type": "code",
   "execution_count": 34,
   "metadata": {
    "colab": {
     "base_uri": "https://localhost:8080/",
     "height": 1000
    },
    "colab_type": "code",
    "id": "0rl3k7xm0aKE",
    "outputId": "93f6eef9-a03e-4dc0-9481-99759a62f25f"
   },
   "outputs": [
    {
     "ename": "AttributeError",
     "evalue": "'TfidfVectorizer' object has no attribute 'get_feature_names_out'",
     "output_type": "error",
     "traceback": [
      "\u001b[1;31m---------------------------------------------------------------------------\u001b[0m",
      "\u001b[1;31mAttributeError\u001b[0m                            Traceback (most recent call last)",
      "\u001b[1;32m<ipython-input-34-362dae478688>\u001b[0m in \u001b[0;36m<module>\u001b[1;34m\u001b[0m\n\u001b[1;32m----> 1\u001b[1;33m \u001b[0mvectorizer_tf\u001b[0m\u001b[1;33m.\u001b[0m\u001b[0mget_feature_names_out\u001b[0m\u001b[1;33m(\u001b[0m\u001b[1;33m)\u001b[0m\u001b[1;33m\u001b[0m\u001b[1;33m\u001b[0m\u001b[0m\n\u001b[0m",
      "\u001b[1;31mAttributeError\u001b[0m: 'TfidfVectorizer' object has no attribute 'get_feature_names_out'"
     ]
    }
   ],
   "source": [
    "vectorizer_tf.get_feature_names_out()"
   ]
  },
  {
   "cell_type": "code",
   "execution_count": 35,
   "metadata": {
    "colab": {},
    "colab_type": "code",
    "id": "Xg9vop9MBz5A"
   },
   "outputs": [],
   "source": [
    "lda = decomposition.LatentDirichletAllocation(n_components=6, max_iter=3, learning_method='online', learning_offset=50, n_jobs=-1, random_state=111)\n",
    "\n",
    "W1 = lda.fit_transform(tf_vectors)\n",
    "H1 = lda.components_"
   ]
  },
  {
   "cell_type": "code",
   "execution_count": 36,
   "metadata": {
    "colab": {
     "base_uri": "https://localhost:8080/",
     "height": 254
    },
    "colab_type": "code",
    "id": "oZffP-JIY_27",
    "outputId": "ee61d3e3-ff36-4a2a-8bc0-5b1c15f3326c"
   },
   "outputs": [
    {
     "data": {
      "text/plain": [
       "array([[0.60342777, 0.00119554, 0.23549892, 0.0011918 , 0.00119242,\n",
       "        0.15749354],\n",
       "       [0.88649011, 0.10844596, 0.0012668 , 0.00126692, 0.00126235,\n",
       "        0.00126787],\n",
       "       [0.7721648 , 0.00557429, 0.00561807, 0.0055956 , 0.00559275,\n",
       "        0.20545449],\n",
       "       ...,\n",
       "       [0.29561726, 0.00305141, 0.11733002, 0.34896145, 0.00307263,\n",
       "        0.23196722],\n",
       "       [0.46059061, 0.01670869, 0.01675698, 0.47217029, 0.01702347,\n",
       "        0.01674997],\n",
       "       [0.00137622, 0.78169146, 0.08828598, 0.00137018, 0.12590374,\n",
       "        0.00137242]])"
      ]
     },
     "execution_count": 36,
     "metadata": {},
     "output_type": "execute_result"
    }
   ],
   "source": [
    "W1"
   ]
  },
  {
   "cell_type": "code",
   "execution_count": 37,
   "metadata": {
    "colab": {},
    "colab_type": "code",
    "id": "M5fq2S23BzxE"
   },
   "outputs": [
    {
     "ename": "AttributeError",
     "evalue": "'TfidfVectorizer' object has no attribute 'get_feature_names_out'",
     "output_type": "error",
     "traceback": [
      "\u001b[1;31m---------------------------------------------------------------------------\u001b[0m",
      "\u001b[1;31mAttributeError\u001b[0m                            Traceback (most recent call last)",
      "\u001b[1;32m<ipython-input-37-2a2526355ef4>\u001b[0m in \u001b[0;36m<module>\u001b[1;34m\u001b[0m\n\u001b[0;32m      1\u001b[0m \u001b[0mnum_words\u001b[0m\u001b[1;33m=\u001b[0m\u001b[1;36m15\u001b[0m\u001b[1;33m\u001b[0m\u001b[1;33m\u001b[0m\u001b[0m\n\u001b[0;32m      2\u001b[0m \u001b[1;33m\u001b[0m\u001b[0m\n\u001b[1;32m----> 3\u001b[1;33m \u001b[0mvocab\u001b[0m \u001b[1;33m=\u001b[0m \u001b[0mnp\u001b[0m\u001b[1;33m.\u001b[0m\u001b[0marray\u001b[0m\u001b[1;33m(\u001b[0m\u001b[0mvectorizer_tf\u001b[0m\u001b[1;33m.\u001b[0m\u001b[0mget_feature_names_out\u001b[0m\u001b[1;33m(\u001b[0m\u001b[1;33m)\u001b[0m\u001b[1;33m)\u001b[0m\u001b[1;33m\u001b[0m\u001b[1;33m\u001b[0m\u001b[0m\n\u001b[0m\u001b[0;32m      4\u001b[0m \u001b[1;33m\u001b[0m\u001b[0m\n\u001b[0;32m      5\u001b[0m \u001b[0mtop_words\u001b[0m \u001b[1;33m=\u001b[0m \u001b[1;32mlambda\u001b[0m \u001b[0mt\u001b[0m\u001b[1;33m:\u001b[0m \u001b[1;33m[\u001b[0m\u001b[0mvocab\u001b[0m\u001b[1;33m[\u001b[0m\u001b[0mi\u001b[0m\u001b[1;33m]\u001b[0m \u001b[1;32mfor\u001b[0m \u001b[0mi\u001b[0m \u001b[1;32min\u001b[0m \u001b[0mnp\u001b[0m\u001b[1;33m.\u001b[0m\u001b[0margsort\u001b[0m\u001b[1;33m(\u001b[0m\u001b[0mt\u001b[0m\u001b[1;33m)\u001b[0m\u001b[1;33m[\u001b[0m\u001b[1;33m:\u001b[0m\u001b[1;33m-\u001b[0m\u001b[0mnum_words\u001b[0m\u001b[1;33m-\u001b[0m\u001b[1;36m1\u001b[0m\u001b[1;33m:\u001b[0m\u001b[1;33m-\u001b[0m\u001b[1;36m1\u001b[0m\u001b[1;33m]\u001b[0m\u001b[1;33m]\u001b[0m\u001b[1;33m\u001b[0m\u001b[1;33m\u001b[0m\u001b[0m\n",
      "\u001b[1;31mAttributeError\u001b[0m: 'TfidfVectorizer' object has no attribute 'get_feature_names_out'"
     ]
    }
   ],
   "source": [
    "num_words=15\n",
    "\n",
    "vocab = np.array(vectorizer_tf.get_feature_names_out())\n",
    "\n",
    "top_words = lambda t: [vocab[i] for i in np.argsort(t)[:-num_words-1:-1]]\n",
    "topic_words = ([top_words(t) for t in H1])\n",
    "topics = [' '.join(t) for t in topic_words]"
   ]
  },
  {
   "cell_type": "code",
   "execution_count": null,
   "metadata": {
    "colab": {
     "base_uri": "https://localhost:8080/",
     "height": 126
    },
    "colab_type": "code",
    "id": "Mc9ZQd7es12p",
    "outputId": "f2be3054-4f86-4541-ca51-25b99045f2bd"
   },
   "outputs": [],
   "source": [
    "topics"
   ]
  },
  {
   "cell_type": "code",
   "execution_count": null,
   "metadata": {
    "colab": {},
    "colab_type": "code",
    "id": "ksR6IYpZGw1B"
   },
   "outputs": [],
   "source": [
    "colnames = [\"Topic\" + str(i) for i in range(lda.n_components)]\n",
    "docnames = [\"Doc\" + str(i) for i in range(len(X_train.complaints))]\n",
    "df_doc_topic = pd.DataFrame(np.round(W1, 2), columns=colnames, index=docnames)\n",
    "significant_topic = np.argmax(df_doc_topic.values, axis=1)\n",
    "df_doc_topic['dominant_topic'] = significant_topic"
   ]
  },
  {
   "cell_type": "code",
   "execution_count": null,
   "metadata": {
    "colab": {
     "base_uri": "https://localhost:8080/",
     "height": 407
    },
    "colab_type": "code",
    "id": "jx2p6-NwVeJY",
    "outputId": "aadd70c8-63cf-4126-faee-ffccbb7745c7"
   },
   "outputs": [],
   "source": [
    "df_doc_topic"
   ]
  },
  {
   "cell_type": "code",
   "execution_count": null,
   "metadata": {
    "colab": {
     "base_uri": "https://localhost:8080/",
     "height": 993
    },
    "colab_type": "code",
    "id": "sdHfi1-uWRpQ",
    "outputId": "8dbe800e-a8c0-4f29-8a12-5cc39f61a07f"
   },
   "outputs": [],
   "source": [
    "X_train.head()"
   ]
  },
  {
   "cell_type": "code",
   "execution_count": null,
   "metadata": {
    "colab": {},
    "colab_type": "code",
    "id": "NewYZ8r8W-GG"
   },
   "outputs": [],
   "source": [
    "WHold = lda.transform(vectorizer_tf.transform(X_hold.complaints[:5]))"
   ]
  },
  {
   "cell_type": "code",
   "execution_count": null,
   "metadata": {
    "colab": {},
    "colab_type": "code",
    "id": "GNtw0H1Sb2Ka"
   },
   "outputs": [],
   "source": [
    "colnames = [\"Topic\" + str(i) for i in range(lda.n_components)]\n",
    "docnames = [\"Doc\" + str(i) for i in range(len(X_hold.complaints[:5]))]\n",
    "df_doc_topic = pd.DataFrame(np.round(WHold, 2), columns=colnames, index=docnames)\n",
    "significant_topic = np.argmax(df_doc_topic.values, axis=1)\n",
    "df_doc_topic['dominant_topic'] = significant_topic"
   ]
  },
  {
   "cell_type": "code",
   "execution_count": null,
   "metadata": {
    "colab": {
     "base_uri": "https://localhost:8080/",
     "height": 198
    },
    "colab_type": "code",
    "id": "tvWaPeLLcKds",
    "outputId": "e4a05288-7816-4cb5-db97-0dbccb398722"
   },
   "outputs": [],
   "source": [
    "df_doc_topic"
   ]
  },
  {
   "cell_type": "code",
   "execution_count": null,
   "metadata": {
    "colab": {
     "base_uri": "https://localhost:8080/",
     "height": 1000
    },
    "colab_type": "code",
    "id": "yoEBjMqxcMk2",
    "outputId": "0fab7e47-cb30-47d2-a7a3-e84505585e4a"
   },
   "outputs": [],
   "source": [
    "X_hold.head()"
   ]
  },
  {
   "cell_type": "code",
   "execution_count": null,
   "metadata": {
    "colab": {},
    "colab_type": "code",
    "id": "JExLyKUycPdR"
   },
   "outputs": [],
   "source": []
  },
  {
   "cell_type": "code",
   "execution_count": null,
   "metadata": {},
   "outputs": [],
   "source": []
  },
  {
   "cell_type": "code",
   "execution_count": null,
   "metadata": {},
   "outputs": [],
   "source": []
  },
  {
   "cell_type": "code",
   "execution_count": null,
   "metadata": {},
   "outputs": [],
   "source": []
  },
  {
   "cell_type": "code",
   "execution_count": null,
   "metadata": {},
   "outputs": [],
   "source": []
  },
  {
   "cell_type": "code",
   "execution_count": null,
   "metadata": {},
   "outputs": [],
   "source": []
  },
  {
   "cell_type": "code",
   "execution_count": null,
   "metadata": {},
   "outputs": [],
   "source": []
  },
  {
   "cell_type": "code",
   "execution_count": null,
   "metadata": {},
   "outputs": [],
   "source": []
  },
  {
   "cell_type": "code",
   "execution_count": null,
   "metadata": {},
   "outputs": [],
   "source": []
  },
  {
   "cell_type": "code",
   "execution_count": null,
   "metadata": {},
   "outputs": [],
   "source": []
  },
  {
   "cell_type": "code",
   "execution_count": null,
   "metadata": {},
   "outputs": [],
   "source": []
  },
  {
   "cell_type": "code",
   "execution_count": null,
   "metadata": {},
   "outputs": [],
   "source": []
  },
  {
   "cell_type": "code",
   "execution_count": null,
   "metadata": {},
   "outputs": [],
   "source": []
  },
  {
   "cell_type": "code",
   "execution_count": null,
   "metadata": {},
   "outputs": [],
   "source": []
  },
  {
   "cell_type": "code",
   "execution_count": null,
   "metadata": {},
   "outputs": [],
   "source": []
  },
  {
   "cell_type": "code",
   "execution_count": null,
   "metadata": {},
   "outputs": [],
   "source": []
  },
  {
   "cell_type": "code",
   "execution_count": null,
   "metadata": {},
   "outputs": [],
   "source": []
  },
  {
   "cell_type": "code",
   "execution_count": null,
   "metadata": {},
   "outputs": [],
   "source": []
  },
  {
   "cell_type": "code",
   "execution_count": null,
   "metadata": {},
   "outputs": [],
   "source": []
  },
  {
   "cell_type": "code",
   "execution_count": null,
   "metadata": {},
   "outputs": [],
   "source": []
  }
 ],
 "metadata": {
  "accelerator": "GPU",
  "colab": {
   "authorship_tag": "ABX9TyPZ4m716lETUqsRZsnlR085",
   "collapsed_sections": [],
   "include_colab_link": true,
   "name": "Topic Modeling using LDA - scikit learn.ipynb",
   "provenance": []
  },
  "kernelspec": {
   "display_name": "Python 3",
   "language": "python",
   "name": "python3"
  },
  "language_info": {
   "codemirror_mode": {
    "name": "ipython",
    "version": 3
   },
   "file_extension": ".py",
   "mimetype": "text/x-python",
   "name": "python",
   "nbconvert_exporter": "python",
   "pygments_lexer": "ipython3",
   "version": "3.8.8"
  }
 },
 "nbformat": 4,
 "nbformat_minor": 1
}
